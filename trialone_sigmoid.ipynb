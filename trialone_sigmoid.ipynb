{
 "cells": [
  {
   "cell_type": "code",
   "execution_count": 1,
   "id": "a4e34f77",
   "metadata": {},
   "outputs": [],
   "source": [
    "from tensorflow import keras\n",
    "import tensorflow as tf\n",
    "import numpy as np\n",
    "import matplotlib.pyplot as plt"
   ]
  },
  {
   "cell_type": "code",
   "execution_count": 3,
   "id": "7d9f2412",
   "metadata": {},
   "outputs": [],
   "source": [
    "import os"
   ]
  },
  {
   "cell_type": "code",
   "execution_count": 4,
   "id": "a33aec89",
   "metadata": {},
   "outputs": [],
   "source": [
    "# collect data and transfer into numpy array using opencv"
   ]
  },
  {
   "cell_type": "code",
   "execution_count": 5,
   "id": "441df78d",
   "metadata": {},
   "outputs": [],
   "source": [
    "import cv2 as cv"
   ]
  },
  {
   "cell_type": "code",
   "execution_count": 12,
   "id": "1b93ca26",
   "metadata": {},
   "outputs": [],
   "source": [
    "path='data'"
   ]
  },
  {
   "cell_type": "code",
   "execution_count": 13,
   "id": "738e1bba",
   "metadata": {},
   "outputs": [],
   "source": [
    "labels=['without_mask','with_mask']"
   ]
  },
  {
   "cell_type": "code",
   "execution_count": 15,
   "id": "5b5e62b1",
   "metadata": {},
   "outputs": [],
   "source": [
    "x=[]\n",
    "y=[]"
   ]
  },
  {
   "cell_type": "code",
   "execution_count": 19,
   "id": "f403dcdb",
   "metadata": {},
   "outputs": [],
   "source": [
    "for names in os.listdir(path):\n",
    "    indx=labels.index(names)\n",
    "    for image in os.listdir(os.path.join(path,names)):\n",
    "        img_path=os.path.join(path,names,image)\n",
    "        img=cv.imread(img_path)\n",
    "        resized=cv.resize(img,(128,128))\n",
    "        x.append(resized)\n",
    "        y.append(indx)\n",
    "        \n",
    "    "
   ]
  },
  {
   "cell_type": "code",
   "execution_count": 97,
   "id": "ef026df4",
   "metadata": {},
   "outputs": [
    {
     "ename": "TypeError",
     "evalue": "object of type 'numpy.float64' has no len()",
     "output_type": "error",
     "traceback": [
      "\u001b[1;31m---------------------------------------------------------------------------\u001b[0m",
      "\u001b[1;31mTypeError\u001b[0m                                 Traceback (most recent call last)",
      "Cell \u001b[1;32mIn[97], line 2\u001b[0m\n\u001b[0;32m      1\u001b[0m \u001b[38;5;66;03m# checking if both lists have the same lenght\u001b[39;00m\n\u001b[1;32m----> 2\u001b[0m \u001b[38;5;28;43mlen\u001b[39;49m\u001b[43m(\u001b[49m\u001b[43mx\u001b[49m\u001b[43m)\u001b[49m,\u001b[38;5;28mlen\u001b[39m(y)\n",
      "\u001b[1;31mTypeError\u001b[0m: object of type 'numpy.float64' has no len()"
     ]
    }
   ],
   "source": [
    "# checking if both lists have the same lenght\n",
    "len(x),len(y)"
   ]
  },
  {
   "cell_type": "code",
   "execution_count": 93,
   "id": "f3f566b2",
   "metadata": {},
   "outputs": [],
   "source": [
    "# converting to numpy array\n",
    "x=np.array(x)\n",
    "y=np.array(y)"
   ]
  },
  {
   "cell_type": "code",
   "execution_count": 94,
   "id": "0cbb0705",
   "metadata": {},
   "outputs": [],
   "source": [
    "# scaling the x values for better accuracy\n",
    "x=x/255"
   ]
  },
  {
   "cell_type": "code",
   "execution_count": 95,
   "id": "61b780bd",
   "metadata": {},
   "outputs": [
    {
     "data": {
      "text/plain": [
       "0.9019607843137255"
      ]
     },
     "execution_count": 95,
     "metadata": {},
     "output_type": "execute_result"
    }
   ],
   "source": [
    "x.max()"
   ]
  },
  {
   "cell_type": "code",
   "execution_count": 96,
   "id": "ef02e3cd",
   "metadata": {},
   "outputs": [
    {
     "data": {
      "text/plain": [
       "((), ())"
      ]
     },
     "execution_count": 96,
     "metadata": {},
     "output_type": "execute_result"
    }
   ],
   "source": [
    "x.shape,y.shape"
   ]
  },
  {
   "cell_type": "code",
   "execution_count": 26,
   "id": "509bf4e0",
   "metadata": {},
   "outputs": [],
   "source": [
    "# seeing the images at random\n",
    "import random"
   ]
  },
  {
   "cell_type": "code",
   "execution_count": 98,
   "id": "0fa6af13",
   "metadata": {},
   "outputs": [
    {
     "ename": "IndexError",
     "evalue": "invalid index to scalar variable.",
     "output_type": "error",
     "traceback": [
      "\u001b[1;31m---------------------------------------------------------------------------\u001b[0m",
      "\u001b[1;31mIndexError\u001b[0m                                Traceback (most recent call last)",
      "Cell \u001b[1;32mIn[98], line 2\u001b[0m\n\u001b[0;32m      1\u001b[0m index\u001b[38;5;241m=\u001b[39mrandom\u001b[38;5;241m.\u001b[39mrandint(\u001b[38;5;241m0\u001b[39m,\u001b[38;5;241m2500\u001b[39m)\n\u001b[1;32m----> 2\u001b[0m plt\u001b[38;5;241m.\u001b[39mimshow(\u001b[43mx\u001b[49m\u001b[43m[\u001b[49m\u001b[43mindex\u001b[49m\u001b[43m]\u001b[49m)\n\u001b[0;32m      3\u001b[0m plt\u001b[38;5;241m.\u001b[39mxlabel(y[index])\n",
      "\u001b[1;31mIndexError\u001b[0m: invalid index to scalar variable."
     ]
    }
   ],
   "source": [
    "index=random.randint(0,2500)\n",
    "plt.imshow(x[index])\n",
    "plt.xlabel(y[index])"
   ]
  },
  {
   "cell_type": "code",
   "execution_count": 36,
   "id": "5077b623",
   "metadata": {},
   "outputs": [],
   "source": [
    "# divide the data in training data and testing data"
   ]
  },
  {
   "cell_type": "code",
   "execution_count": 37,
   "id": "fb04552c",
   "metadata": {},
   "outputs": [],
   "source": [
    "from sklearn.model_selection import train_test_split"
   ]
  },
  {
   "cell_type": "code",
   "execution_count": 92,
   "id": "ba0dc9eb",
   "metadata": {},
   "outputs": [
    {
     "ename": "TypeError",
     "evalue": "Singleton array 230 cannot be considered a valid collection.",
     "output_type": "error",
     "traceback": [
      "\u001b[1;31m---------------------------------------------------------------------------\u001b[0m",
      "\u001b[1;31mTypeError\u001b[0m                                 Traceback (most recent call last)",
      "Cell \u001b[1;32mIn[92], line 1\u001b[0m\n\u001b[1;32m----> 1\u001b[0m x_train,x_test,y_train,y_test\u001b[38;5;241m=\u001b[39m\u001b[43mtrain_test_split\u001b[49m\u001b[43m(\u001b[49m\u001b[43mx\u001b[49m\u001b[43m,\u001b[49m\u001b[43my\u001b[49m\u001b[43m,\u001b[49m\u001b[43mtest_size\u001b[49m\u001b[38;5;241;43m=\u001b[39;49m\u001b[38;5;241;43m0.15\u001b[39;49m\u001b[43m)\u001b[49m\n",
      "File \u001b[1;32m~\\AppData\\Local\\Programs\\Python\\Python310\\lib\\site-packages\\sklearn\\model_selection\\_split.py:2559\u001b[0m, in \u001b[0;36mtrain_test_split\u001b[1;34m(test_size, train_size, random_state, shuffle, stratify, *arrays)\u001b[0m\n\u001b[0;32m   2556\u001b[0m \u001b[38;5;28;01mif\u001b[39;00m n_arrays \u001b[38;5;241m==\u001b[39m \u001b[38;5;241m0\u001b[39m:\n\u001b[0;32m   2557\u001b[0m     \u001b[38;5;28;01mraise\u001b[39;00m \u001b[38;5;167;01mValueError\u001b[39;00m(\u001b[38;5;124m\"\u001b[39m\u001b[38;5;124mAt least one array required as input\u001b[39m\u001b[38;5;124m\"\u001b[39m)\n\u001b[1;32m-> 2559\u001b[0m arrays \u001b[38;5;241m=\u001b[39m \u001b[43mindexable\u001b[49m\u001b[43m(\u001b[49m\u001b[38;5;241;43m*\u001b[39;49m\u001b[43marrays\u001b[49m\u001b[43m)\u001b[49m\n\u001b[0;32m   2561\u001b[0m n_samples \u001b[38;5;241m=\u001b[39m _num_samples(arrays[\u001b[38;5;241m0\u001b[39m])\n\u001b[0;32m   2562\u001b[0m n_train, n_test \u001b[38;5;241m=\u001b[39m _validate_shuffle_split(\n\u001b[0;32m   2563\u001b[0m     n_samples, test_size, train_size, default_test_size\u001b[38;5;241m=\u001b[39m\u001b[38;5;241m0.25\u001b[39m\n\u001b[0;32m   2564\u001b[0m )\n",
      "File \u001b[1;32m~\\AppData\\Local\\Programs\\Python\\Python310\\lib\\site-packages\\sklearn\\utils\\validation.py:443\u001b[0m, in \u001b[0;36mindexable\u001b[1;34m(*iterables)\u001b[0m\n\u001b[0;32m    424\u001b[0m \u001b[38;5;250m\u001b[39m\u001b[38;5;124;03m\"\"\"Make arrays indexable for cross-validation.\u001b[39;00m\n\u001b[0;32m    425\u001b[0m \n\u001b[0;32m    426\u001b[0m \u001b[38;5;124;03mChecks consistent length, passes through None, and ensures that everything\u001b[39;00m\n\u001b[1;32m   (...)\u001b[0m\n\u001b[0;32m    439\u001b[0m \u001b[38;5;124;03m    sparse matrix, or dataframe) or `None`.\u001b[39;00m\n\u001b[0;32m    440\u001b[0m \u001b[38;5;124;03m\"\"\"\u001b[39;00m\n\u001b[0;32m    442\u001b[0m result \u001b[38;5;241m=\u001b[39m [_make_indexable(X) \u001b[38;5;28;01mfor\u001b[39;00m X \u001b[38;5;129;01min\u001b[39;00m iterables]\n\u001b[1;32m--> 443\u001b[0m \u001b[43mcheck_consistent_length\u001b[49m\u001b[43m(\u001b[49m\u001b[38;5;241;43m*\u001b[39;49m\u001b[43mresult\u001b[49m\u001b[43m)\u001b[49m\n\u001b[0;32m    444\u001b[0m \u001b[38;5;28;01mreturn\u001b[39;00m result\n",
      "File \u001b[1;32m~\\AppData\\Local\\Programs\\Python\\Python310\\lib\\site-packages\\sklearn\\utils\\validation.py:394\u001b[0m, in \u001b[0;36mcheck_consistent_length\u001b[1;34m(*arrays)\u001b[0m\n\u001b[0;32m    383\u001b[0m \u001b[38;5;28;01mdef\u001b[39;00m \u001b[38;5;21mcheck_consistent_length\u001b[39m(\u001b[38;5;241m*\u001b[39marrays):\n\u001b[0;32m    384\u001b[0m \u001b[38;5;250m    \u001b[39m\u001b[38;5;124;03m\"\"\"Check that all arrays have consistent first dimensions.\u001b[39;00m\n\u001b[0;32m    385\u001b[0m \n\u001b[0;32m    386\u001b[0m \u001b[38;5;124;03m    Checks whether all objects in arrays have the same shape or length.\u001b[39;00m\n\u001b[1;32m   (...)\u001b[0m\n\u001b[0;32m    391\u001b[0m \u001b[38;5;124;03m        Objects that will be checked for consistent length.\u001b[39;00m\n\u001b[0;32m    392\u001b[0m \u001b[38;5;124;03m    \"\"\"\u001b[39;00m\n\u001b[1;32m--> 394\u001b[0m     lengths \u001b[38;5;241m=\u001b[39m [_num_samples(X) \u001b[38;5;28;01mfor\u001b[39;00m X \u001b[38;5;129;01min\u001b[39;00m arrays \u001b[38;5;28;01mif\u001b[39;00m X \u001b[38;5;129;01mis\u001b[39;00m \u001b[38;5;129;01mnot\u001b[39;00m \u001b[38;5;28;01mNone\u001b[39;00m]\n\u001b[0;32m    395\u001b[0m     uniques \u001b[38;5;241m=\u001b[39m np\u001b[38;5;241m.\u001b[39munique(lengths)\n\u001b[0;32m    396\u001b[0m     \u001b[38;5;28;01mif\u001b[39;00m \u001b[38;5;28mlen\u001b[39m(uniques) \u001b[38;5;241m>\u001b[39m \u001b[38;5;241m1\u001b[39m:\n",
      "File \u001b[1;32m~\\AppData\\Local\\Programs\\Python\\Python310\\lib\\site-packages\\sklearn\\utils\\validation.py:394\u001b[0m, in \u001b[0;36m<listcomp>\u001b[1;34m(.0)\u001b[0m\n\u001b[0;32m    383\u001b[0m \u001b[38;5;28;01mdef\u001b[39;00m \u001b[38;5;21mcheck_consistent_length\u001b[39m(\u001b[38;5;241m*\u001b[39marrays):\n\u001b[0;32m    384\u001b[0m \u001b[38;5;250m    \u001b[39m\u001b[38;5;124;03m\"\"\"Check that all arrays have consistent first dimensions.\u001b[39;00m\n\u001b[0;32m    385\u001b[0m \n\u001b[0;32m    386\u001b[0m \u001b[38;5;124;03m    Checks whether all objects in arrays have the same shape or length.\u001b[39;00m\n\u001b[1;32m   (...)\u001b[0m\n\u001b[0;32m    391\u001b[0m \u001b[38;5;124;03m        Objects that will be checked for consistent length.\u001b[39;00m\n\u001b[0;32m    392\u001b[0m \u001b[38;5;124;03m    \"\"\"\u001b[39;00m\n\u001b[1;32m--> 394\u001b[0m     lengths \u001b[38;5;241m=\u001b[39m [\u001b[43m_num_samples\u001b[49m\u001b[43m(\u001b[49m\u001b[43mX\u001b[49m\u001b[43m)\u001b[49m \u001b[38;5;28;01mfor\u001b[39;00m X \u001b[38;5;129;01min\u001b[39;00m arrays \u001b[38;5;28;01mif\u001b[39;00m X \u001b[38;5;129;01mis\u001b[39;00m \u001b[38;5;129;01mnot\u001b[39;00m \u001b[38;5;28;01mNone\u001b[39;00m]\n\u001b[0;32m    395\u001b[0m     uniques \u001b[38;5;241m=\u001b[39m np\u001b[38;5;241m.\u001b[39munique(lengths)\n\u001b[0;32m    396\u001b[0m     \u001b[38;5;28;01mif\u001b[39;00m \u001b[38;5;28mlen\u001b[39m(uniques) \u001b[38;5;241m>\u001b[39m \u001b[38;5;241m1\u001b[39m:\n",
      "File \u001b[1;32m~\\AppData\\Local\\Programs\\Python\\Python310\\lib\\site-packages\\sklearn\\utils\\validation.py:335\u001b[0m, in \u001b[0;36m_num_samples\u001b[1;34m(x)\u001b[0m\n\u001b[0;32m    333\u001b[0m \u001b[38;5;28;01mif\u001b[39;00m \u001b[38;5;28mhasattr\u001b[39m(x, \u001b[38;5;124m\"\u001b[39m\u001b[38;5;124mshape\u001b[39m\u001b[38;5;124m\"\u001b[39m) \u001b[38;5;129;01mand\u001b[39;00m x\u001b[38;5;241m.\u001b[39mshape \u001b[38;5;129;01mis\u001b[39;00m \u001b[38;5;129;01mnot\u001b[39;00m \u001b[38;5;28;01mNone\u001b[39;00m:\n\u001b[0;32m    334\u001b[0m     \u001b[38;5;28;01mif\u001b[39;00m \u001b[38;5;28mlen\u001b[39m(x\u001b[38;5;241m.\u001b[39mshape) \u001b[38;5;241m==\u001b[39m \u001b[38;5;241m0\u001b[39m:\n\u001b[1;32m--> 335\u001b[0m         \u001b[38;5;28;01mraise\u001b[39;00m \u001b[38;5;167;01mTypeError\u001b[39;00m(\n\u001b[0;32m    336\u001b[0m             \u001b[38;5;124m\"\u001b[39m\u001b[38;5;124mSingleton array \u001b[39m\u001b[38;5;132;01m%r\u001b[39;00m\u001b[38;5;124m cannot be considered a valid collection.\u001b[39m\u001b[38;5;124m\"\u001b[39m \u001b[38;5;241m%\u001b[39m x\n\u001b[0;32m    337\u001b[0m         )\n\u001b[0;32m    338\u001b[0m     \u001b[38;5;66;03m# Check that shape is returning an integer or default to len\u001b[39;00m\n\u001b[0;32m    339\u001b[0m     \u001b[38;5;66;03m# Dask dataframes may not return numeric shape[0] value\u001b[39;00m\n\u001b[0;32m    340\u001b[0m     \u001b[38;5;28;01mif\u001b[39;00m \u001b[38;5;28misinstance\u001b[39m(x\u001b[38;5;241m.\u001b[39mshape[\u001b[38;5;241m0\u001b[39m], numbers\u001b[38;5;241m.\u001b[39mIntegral):\n",
      "\u001b[1;31mTypeError\u001b[0m: Singleton array 230 cannot be considered a valid collection."
     ]
    }
   ],
   "source": [
    "x_train,x_test,y_train,y_test=train_test_split(x,y,test_size=0.15)"
   ]
  },
  {
   "cell_type": "code",
   "execution_count": 39,
   "id": "5bcf5b9b",
   "metadata": {},
   "outputs": [
    {
     "data": {
      "text/plain": [
       "((2464, 128, 128, 3), (2464,))"
      ]
     },
     "execution_count": 39,
     "metadata": {},
     "output_type": "execute_result"
    }
   ],
   "source": [
    "x_train.shape,y_train.shape"
   ]
  },
  {
   "cell_type": "code",
   "execution_count": 43,
   "id": "b85f4594",
   "metadata": {},
   "outputs": [
    {
     "data": {
      "text/plain": [
       "(1.0, (2464,))"
      ]
     },
     "execution_count": 43,
     "metadata": {},
     "output_type": "execute_result"
    }
   ],
   "source": [
    "x_train.max(),y_train.shape"
   ]
  },
  {
   "cell_type": "markdown",
   "id": "3333d2f1",
   "metadata": {},
   "source": [
    "# creating the cnn model"
   ]
  },
  {
   "cell_type": "code",
   "execution_count": 41,
   "id": "898c61e6",
   "metadata": {},
   "outputs": [],
   "source": [
    "model=keras.Sequential()\n",
    "# cnn\n",
    "model.add(keras.layers.Conv2D(45,kernel_size=(3,3),activation='relu',input_shape=(128,128,3)))\n",
    "model.add(keras.layers.MaxPool2D())\n",
    "\n",
    "model.add(keras.layers.Conv2D(30,kernel_size=(3,3),activation='relu'))\n",
    "model.add(keras.layers.MaxPool2D())\n",
    "\n",
    "# flattening \n",
    "model.add(keras.layers.Flatten())\n",
    "# deep nn\n",
    "model.add(keras.layers.Dense(64,activation='relu'))\n",
    "model.add(keras.layers.Dense(32,activation='relu'))\n",
    "model.add(keras.layers.Dense(1,activation='sigmoid'))"
   ]
  },
  {
   "cell_type": "code",
   "execution_count": 42,
   "id": "df3c8a27",
   "metadata": {},
   "outputs": [],
   "source": [
    "model.compile(loss='binary_crossentropy',optimizer='adam',metrics=['accuracy'])"
   ]
  },
  {
   "cell_type": "markdown",
   "id": "cfa5319f",
   "metadata": {},
   "source": [
    "# training the model"
   ]
  },
  {
   "cell_type": "code",
   "execution_count": 44,
   "id": "70abb990",
   "metadata": {},
   "outputs": [
    {
     "name": "stdout",
     "output_type": "stream",
     "text": [
      "Epoch 1/5\n",
      "77/77 [==============================] - 56s 686ms/step - loss: 0.4268 - accuracy: 0.7942 - val_loss: 0.2518 - val_accuracy: 0.8782\n",
      "Epoch 2/5\n",
      "77/77 [==============================] - 61s 799ms/step - loss: 0.2132 - accuracy: 0.9144 - val_loss: 0.2074 - val_accuracy: 0.9126\n",
      "Epoch 3/5\n",
      "77/77 [==============================] - 64s 825ms/step - loss: 0.1604 - accuracy: 0.9444 - val_loss: 0.2289 - val_accuracy: 0.9149\n",
      "Epoch 4/5\n",
      "77/77 [==============================] - 58s 748ms/step - loss: 0.1079 - accuracy: 0.9639 - val_loss: 0.2260 - val_accuracy: 0.9103\n",
      "Epoch 5/5\n",
      "77/77 [==============================] - 52s 680ms/step - loss: 0.0877 - accuracy: 0.9748 - val_loss: 0.1725 - val_accuracy: 0.9402\n"
     ]
    },
    {
     "data": {
      "text/plain": [
       "<keras.callbacks.History at 0x2840639f8b0>"
      ]
     },
     "execution_count": 44,
     "metadata": {},
     "output_type": "execute_result"
    }
   ],
   "source": [
    "model.fit(x_train,y_train,epochs=5,validation_data=(x_test,y_test))"
   ]
  },
  {
   "cell_type": "code",
   "execution_count": 46,
   "id": "d5f130da",
   "metadata": {},
   "outputs": [
    {
     "name": "stdout",
     "output_type": "stream",
     "text": [
      "77/77 [==============================] - 50s 646ms/step - loss: 0.0308 - accuracy: 0.9903 - val_loss: 0.2513 - val_accuracy: 0.9310\n"
     ]
    },
    {
     "data": {
      "text/plain": [
       "<keras.callbacks.History at 0x2840730ff40>"
      ]
     },
     "execution_count": 46,
     "metadata": {},
     "output_type": "execute_result"
    }
   ],
   "source": [
    "model.fit(x_train,y_train,epochs=1,validation_data=(x_test,y_test))"
   ]
  },
  {
   "cell_type": "code",
   "execution_count": 47,
   "id": "415159bf",
   "metadata": {},
   "outputs": [
    {
     "name": "stdout",
     "output_type": "stream",
     "text": [
      "14/14 [==============================] - 2s 159ms/step - loss: 0.2513 - accuracy: 0.9310\n"
     ]
    },
    {
     "data": {
      "text/plain": [
       "[0.25133123993873596, 0.931034505367279]"
      ]
     },
     "execution_count": 47,
     "metadata": {},
     "output_type": "execute_result"
    }
   ],
   "source": [
    "model.evaluate(x_test,y_test)"
   ]
  },
  {
   "cell_type": "code",
   "execution_count": 51,
   "id": "54727e41",
   "metadata": {},
   "outputs": [],
   "source": [
    "def get_predictions(y):\n",
    "    l=[]\n",
    "    for i in y:\n",
    "        i=i[0]\n",
    "        if i>=0.5:\n",
    "            l.append('mask')\n",
    "        else:\n",
    "            l.append('no mask')\n",
    "    return l[0]"
   ]
  },
  {
   "cell_type": "code",
   "execution_count": 49,
   "id": "059e0f1b",
   "metadata": {},
   "outputs": [
    {
     "name": "stdout",
     "output_type": "stream",
     "text": [
      "14/14 [==============================] - 3s 151ms/step\n"
     ]
    }
   ],
   "source": [
    "y_p=model.predict(x_test)"
   ]
  },
  {
   "cell_type": "code",
   "execution_count": 55,
   "id": "300f88fe",
   "metadata": {},
   "outputs": [
    {
     "data": {
      "text/plain": [
       "['mask',\n",
       " 'no mask',\n",
       " 'no mask',\n",
       " 'no mask',\n",
       " 'no mask',\n",
       " 'no mask',\n",
       " 'no mask',\n",
       " 'no mask',\n",
       " 'no mask',\n",
       " 'mask']"
      ]
     },
     "execution_count": 55,
     "metadata": {},
     "output_type": "execute_result"
    }
   ],
   "source": [
    "get_predictions(y_p)[:10]"
   ]
  },
  {
   "cell_type": "code",
   "execution_count": 56,
   "id": "85561efe",
   "metadata": {},
   "outputs": [
    {
     "data": {
      "text/plain": [
       "array([1, 0, 0, 0, 0, 1, 0, 0, 0, 1])"
      ]
     },
     "execution_count": 56,
     "metadata": {},
     "output_type": "execute_result"
    }
   ],
   "source": [
    "y_test[:10]"
   ]
  },
  {
   "cell_type": "code",
   "execution_count": 73,
   "id": "cdf94b02",
   "metadata": {},
   "outputs": [],
   "source": [
    "def give_result(img):\n",
    "    res_img=cv.resize(img,(128,128))\n",
    "    res_img=res_img/255\n",
    "    y_p=model.predict(np.expand_dims(res_img,0))\n",
    "    print(y_p)\n",
    "    result=get_predictions(y_p)\n",
    "    return result,y_p[0][0]"
   ]
  },
  {
   "cell_type": "code",
   "execution_count": 85,
   "id": "4f51a864",
   "metadata": {},
   "outputs": [],
   "source": [
    "img=cv.imread('mask5.jpg')\n"
   ]
  },
  {
   "cell_type": "code",
   "execution_count": 86,
   "id": "6c5d81b7",
   "metadata": {},
   "outputs": [
    {
     "name": "stdout",
     "output_type": "stream",
     "text": [
      "1/1 [==============================] - 0s 42ms/step\n",
      "[[0.8536359]]\n"
     ]
    },
    {
     "data": {
      "text/plain": [
       "(['mask'], 0.8536359)"
      ]
     },
     "execution_count": 86,
     "metadata": {},
     "output_type": "execute_result"
    }
   ],
   "source": [
    "give_result(img)"
   ]
  },
  {
   "cell_type": "code",
   "execution_count": 60,
   "id": "41033e96",
   "metadata": {},
   "outputs": [],
   "source": [
    "img=cv.imread('nomask.jpg')"
   ]
  },
  {
   "cell_type": "code",
   "execution_count": 61,
   "id": "9a6c244e",
   "metadata": {},
   "outputs": [
    {
     "name": "stdout",
     "output_type": "stream",
     "text": [
      "1/1 [==============================] - 0s 43ms/step\n"
     ]
    },
    {
     "data": {
      "text/plain": [
       "['mask']"
      ]
     },
     "execution_count": 61,
     "metadata": {},
     "output_type": "execute_result"
    }
   ],
   "source": [
    "give_result(img)"
   ]
  },
  {
   "cell_type": "code",
   "execution_count": 100,
   "id": "88d8da62",
   "metadata": {},
   "outputs": [
    {
     "name": "stdout",
     "output_type": "stream",
     "text": [
      "1/1 [==============================] - 0s 31ms/step\n",
      "[[0.00024585]]\n"
     ]
    },
    {
     "data": {
      "text/plain": [
       "(['no mask'], 0.00024584532)"
      ]
     },
     "execution_count": 100,
     "metadata": {},
     "output_type": "execute_result"
    }
   ],
   "source": [
    "image=cv.imread('no.jpeg')\n",
    "give_result(image)"
   ]
  },
  {
   "cell_type": "markdown",
   "id": "d23b8c41",
   "metadata": {},
   "source": [
    "# realtime detection"
   ]
  },
  {
   "cell_type": "code",
   "execution_count": 67,
   "id": "e7350753",
   "metadata": {},
   "outputs": [],
   "source": [
    "face_cascade=cv.CascadeClassifier('haarcascades/haarcascade_frontalface_default.xml')"
   ]
  },
  {
   "cell_type": "code",
   "execution_count": 102,
   "id": "ee1cc15d",
   "metadata": {},
   "outputs": [
    {
     "name": "stdout",
     "output_type": "stream",
     "text": [
      "1/1 [==============================] - 0s 53ms/step\n",
      "[[0.06251245]]\n",
      "1/1 [==============================] - 0s 24ms/step\n",
      "[[0.10325986]]\n",
      "1/1 [==============================] - 0s 32ms/step\n",
      "[[0.10701481]]\n",
      "1/1 [==============================] - 0s 39ms/step\n",
      "[[0.05540916]]\n",
      "1/1 [==============================] - 0s 36ms/step\n",
      "[[0.01827127]]\n",
      "1/1 [==============================] - 0s 32ms/step\n",
      "[[0.01805785]]\n",
      "1/1 [==============================] - 0s 35ms/step\n",
      "[[0.01926839]]\n",
      "1/1 [==============================] - 0s 30ms/step\n",
      "[[0.01926839]]\n",
      "1/1 [==============================] - 0s 24ms/step\n",
      "[[0.02567372]]\n",
      "1/1 [==============================] - 0s 40ms/step\n",
      "[[0.03023271]]\n",
      "1/1 [==============================] - 0s 32ms/step\n",
      "[[0.03086417]]\n",
      "1/1 [==============================] - 0s 36ms/step\n",
      "[[0.03068035]]\n",
      "1/1 [==============================] - 0s 38ms/step\n",
      "[[0.03503921]]\n",
      "1/1 [==============================] - 0s 35ms/step\n",
      "[[0.03429243]]\n",
      "1/1 [==============================] - 0s 32ms/step\n",
      "[[0.03429243]]\n",
      "1/1 [==============================] - 0s 40ms/step\n",
      "[[0.04265831]]\n",
      "1/1 [==============================] - 0s 40ms/step\n",
      "[[0.05375298]]\n",
      "1/1 [==============================] - 0s 33ms/step\n",
      "[[0.04920083]]\n",
      "1/1 [==============================] - 0s 32ms/step\n",
      "[[0.0503843]]\n",
      "1/1 [==============================] - 0s 33ms/step\n",
      "[[0.05231377]]\n",
      "1/1 [==============================] - 0s 27ms/step\n",
      "[[0.05231377]]\n",
      "1/1 [==============================] - 0s 23ms/step\n",
      "[[0.05201516]]\n",
      "1/1 [==============================] - 0s 32ms/step\n",
      "[[0.04609631]]\n",
      "1/1 [==============================] - 0s 35ms/step\n",
      "[[0.03597499]]\n",
      "1/1 [==============================] - 0s 37ms/step\n",
      "[[0.03979956]]\n",
      "1/1 [==============================] - 0s 33ms/step\n",
      "[[0.03670648]]\n",
      "1/1 [==============================] - 0s 29ms/step\n",
      "[[0.04009219]]\n",
      "1/1 [==============================] - 0s 25ms/step\n",
      "[[0.03884041]]\n",
      "1/1 [==============================] - 0s 44ms/step\n",
      "[[0.04186428]]\n",
      "1/1 [==============================] - 0s 36ms/step\n",
      "[[0.05561683]]\n",
      "1/1 [==============================] - 0s 39ms/step\n",
      "[[0.06607777]]\n",
      "1/1 [==============================] - 0s 24ms/step\n",
      "[[0.06883535]]\n",
      "1/1 [==============================] - 0s 40ms/step\n",
      "[[0.06412693]]\n",
      "1/1 [==============================] - 0s 30ms/step\n",
      "[[0.0686704]]\n",
      "1/1 [==============================] - 0s 40ms/step\n",
      "[[0.06759674]]\n",
      "1/1 [==============================] - 0s 34ms/step\n",
      "[[0.06077313]]\n",
      "1/1 [==============================] - 0s 30ms/step\n",
      "[[0.04272]]\n",
      "1/1 [==============================] - 0s 32ms/step\n",
      "[[0.04317553]]\n",
      "1/1 [==============================] - 0s 38ms/step\n",
      "[[0.04496595]]\n",
      "1/1 [==============================] - 0s 36ms/step\n",
      "[[0.03956712]]\n",
      "1/1 [==============================] - 0s 33ms/step\n",
      "[[0.03530034]]\n",
      "1/1 [==============================] - 0s 32ms/step\n",
      "[[0.03924983]]\n",
      "1/1 [==============================] - 0s 40ms/step\n",
      "[[0.03850116]]\n",
      "1/1 [==============================] - 0s 33ms/step\n",
      "[[0.04547346]]\n",
      "1/1 [==============================] - 0s 26ms/step\n",
      "[[0.04234183]]\n",
      "1/1 [==============================] - 0s 34ms/step\n",
      "[[0.03477572]]\n",
      "1/1 [==============================] - 0s 32ms/step\n",
      "[[0.03415055]]\n",
      "1/1 [==============================] - 0s 32ms/step\n",
      "[[0.03135086]]\n",
      "1/1 [==============================] - 0s 34ms/step\n",
      "[[0.02727959]]\n",
      "1/1 [==============================] - 0s 24ms/step\n",
      "[[0.02256466]]\n",
      "1/1 [==============================] - 0s 33ms/step\n",
      "[[0.02256466]]\n",
      "1/1 [==============================] - 0s 38ms/step\n",
      "[[0.0885227]]\n",
      "1/1 [==============================] - 0s 25ms/step\n",
      "[[0.073998]]\n",
      "1/1 [==============================] - 0s 36ms/step\n",
      "[[0.04942144]]\n",
      "1/1 [==============================] - 0s 39ms/step\n",
      "[[0.05649646]]\n",
      "1/1 [==============================] - 0s 24ms/step\n",
      "[[0.06606406]]\n",
      "1/1 [==============================] - 0s 35ms/step\n",
      "[[0.06606406]]\n",
      "1/1 [==============================] - 0s 24ms/step\n",
      "[[0.05782654]]\n",
      "1/1 [==============================] - 0s 32ms/step\n",
      "[[0.07789716]]\n",
      "1/1 [==============================] - 0s 36ms/step\n",
      "[[0.05405081]]\n",
      "1/1 [==============================] - 0s 33ms/step\n",
      "[[0.05017217]]\n",
      "1/1 [==============================] - 0s 26ms/step\n",
      "[[0.05605496]]\n",
      "1/1 [==============================] - 0s 51ms/step\n",
      "[[0.05605496]]\n",
      "1/1 [==============================] - 0s 69ms/step\n",
      "[[0.05137952]]\n",
      "1/1 [==============================] - 0s 54ms/step\n",
      "[[0.07438932]]\n",
      "1/1 [==============================] - 0s 40ms/step\n",
      "[[0.07533137]]\n",
      "1/1 [==============================] - 0s 48ms/step\n",
      "[[0.09141734]]\n",
      "1/1 [==============================] - 0s 38ms/step\n",
      "[[0.07959878]]\n",
      "1/1 [==============================] - 0s 32ms/step\n",
      "[[0.07959878]]\n",
      "1/1 [==============================] - 0s 33ms/step\n",
      "[[0.08425593]]\n",
      "1/1 [==============================] - 0s 32ms/step\n",
      "[[0.0825873]]\n",
      "1/1 [==============================] - 0s 40ms/step\n",
      "[[0.04661686]]\n",
      "1/1 [==============================] - 0s 24ms/step\n",
      "[[0.04527945]]\n",
      "1/1 [==============================] - 0s 24ms/step\n",
      "[[0.12346429]]\n",
      "1/1 [==============================] - 0s 38ms/step\n",
      "[[0.55295926]]\n",
      "1/1 [==============================] - 0s 33ms/step\n",
      "[[0.55295926]]\n",
      "1/1 [==============================] - 0s 32ms/step\n",
      "[[0.8185778]]\n",
      "1/1 [==============================] - 0s 32ms/step\n",
      "[[0.7991198]]\n",
      "1/1 [==============================] - 0s 32ms/step\n",
      "[[0.6451307]]\n",
      "1/1 [==============================] - 0s 36ms/step\n",
      "[[0.52359265]]\n",
      "1/1 [==============================] - 0s 38ms/step\n",
      "[[0.4222944]]\n",
      "1/1 [==============================] - 0s 24ms/step\n",
      "[[0.4222944]]\n",
      "1/1 [==============================] - 0s 36ms/step\n",
      "[[0.38579065]]\n",
      "1/1 [==============================] - 0s 40ms/step\n",
      "[[0.4100265]]\n",
      "1/1 [==============================] - 0s 47ms/step\n",
      "[[0.4778049]]\n",
      "1/1 [==============================] - 0s 39ms/step\n",
      "[[0.49280077]]\n",
      "1/1 [==============================] - 0s 43ms/step\n",
      "[[0.5285048]]\n",
      "1/1 [==============================] - 0s 24ms/step\n",
      "[[0.5738039]]\n",
      "1/1 [==============================] - 0s 24ms/step\n",
      "[[0.58087033]]\n",
      "1/1 [==============================] - 0s 40ms/step\n",
      "[[0.58087033]]\n",
      "1/1 [==============================] - 0s 39ms/step\n",
      "[[0.5999995]]\n",
      "1/1 [==============================] - 0s 33ms/step\n",
      "[[0.65234596]]\n",
      "1/1 [==============================] - 0s 40ms/step\n",
      "[[0.6748347]]\n",
      "1/1 [==============================] - 0s 47ms/step\n",
      "[[0.6587648]]\n",
      "1/1 [==============================] - 0s 26ms/step\n",
      "[[0.7338081]]\n",
      "1/1 [==============================] - 0s 39ms/step\n",
      "[[0.7462395]]\n",
      "1/1 [==============================] - 0s 38ms/step\n",
      "[[0.7462395]]\n",
      "1/1 [==============================] - 0s 42ms/step\n",
      "[[0.7946556]]\n",
      "1/1 [==============================] - 0s 26ms/step\n",
      "[[0.80485314]]\n",
      "1/1 [==============================] - 0s 24ms/step\n",
      "[[0.80944794]]\n",
      "1/1 [==============================] - 0s 39ms/step\n",
      "[[0.8167145]]\n",
      "1/1 [==============================] - 0s 31ms/step\n",
      "[[0.8013797]]\n",
      "1/1 [==============================] - 0s 32ms/step\n",
      "[[0.8013797]]\n",
      "1/1 [==============================] - 0s 33ms/step\n",
      "[[0.78660446]]\n",
      "1/1 [==============================] - 0s 32ms/step\n",
      "[[0.79517716]]\n",
      "1/1 [==============================] - 0s 32ms/step\n",
      "[[0.7855865]]\n",
      "1/1 [==============================] - 0s 36ms/step\n",
      "[[0.7980459]]\n",
      "1/1 [==============================] - 0s 39ms/step\n",
      "[[0.8175848]]\n",
      "1/1 [==============================] - 0s 38ms/step\n",
      "[[0.80613875]]\n",
      "1/1 [==============================] - 0s 32ms/step\n",
      "[[0.80613875]]\n",
      "1/1 [==============================] - 0s 33ms/step\n",
      "[[0.7672985]]\n",
      "1/1 [==============================] - 0s 26ms/step\n",
      "[[0.58627737]]\n",
      "1/1 [==============================] - 0s 35ms/step\n",
      "[[0.37127468]]\n",
      "1/1 [==============================] - 0s 39ms/step\n",
      "[[0.32644546]]\n",
      "1/1 [==============================] - 0s 81ms/step\n",
      "[[0.07635228]]\n",
      "1/1 [==============================] - 0s 32ms/step\n",
      "[[0.04802148]]\n",
      "1/1 [==============================] - 0s 33ms/step\n",
      "[[0.0382128]]\n",
      "1/1 [==============================] - 0s 40ms/step\n",
      "[[0.0382128]]\n",
      "1/1 [==============================] - 0s 25ms/step\n",
      "[[0.04426431]]\n",
      "1/1 [==============================] - 0s 40ms/step\n",
      "[[0.05084047]]\n",
      "1/1 [==============================] - 0s 35ms/step\n",
      "[[0.04956426]]\n",
      "1/1 [==============================] - 0s 31ms/step\n",
      "[[0.04771144]]\n",
      "1/1 [==============================] - 0s 36ms/step\n",
      "[[0.05540917]]\n"
     ]
    },
    {
     "name": "stdout",
     "output_type": "stream",
     "text": [
      "1/1 [==============================] - 0s 24ms/step\n",
      "[[0.05540917]]\n",
      "1/1 [==============================] - 0s 32ms/step\n",
      "[[0.05629791]]\n",
      "1/1 [==============================] - 0s 32ms/step\n",
      "[[0.05264803]]\n",
      "1/1 [==============================] - 0s 32ms/step\n",
      "[[0.05616409]]\n",
      "1/1 [==============================] - 0s 24ms/step\n",
      "[[0.06231549]]\n",
      "1/1 [==============================] - 0s 32ms/step\n",
      "[[0.06339835]]\n",
      "1/1 [==============================] - 0s 37ms/step\n",
      "[[0.06339835]]\n",
      "1/1 [==============================] - 0s 23ms/step\n",
      "[[0.06349446]]\n",
      "1/1 [==============================] - 0s 24ms/step\n",
      "[[0.0641719]]\n",
      "1/1 [==============================] - 0s 39ms/step\n",
      "[[0.0625257]]\n",
      "1/1 [==============================] - 0s 24ms/step\n",
      "[[0.05902204]]\n",
      "1/1 [==============================] - 0s 32ms/step\n",
      "[[0.05590972]]\n",
      "1/1 [==============================] - 0s 32ms/step\n",
      "[[0.05590972]]\n",
      "1/1 [==============================] - 0s 32ms/step\n",
      "[[0.06857588]]\n",
      "1/1 [==============================] - 0s 32ms/step\n",
      "[[0.08378224]]\n",
      "1/1 [==============================] - 0s 24ms/step\n",
      "[[0.07937193]]\n",
      "1/1 [==============================] - 0s 33ms/step\n",
      "[[0.08454572]]\n",
      "1/1 [==============================] - 0s 32ms/step\n",
      "[[0.08454572]]\n",
      "1/1 [==============================] - 0s 32ms/step\n",
      "[[0.0829061]]\n",
      "1/1 [==============================] - 0s 24ms/step\n",
      "[[0.07508083]]\n",
      "1/1 [==============================] - 0s 32ms/step\n",
      "[[0.07637375]]\n",
      "1/1 [==============================] - 0s 24ms/step\n",
      "[[0.07543706]]\n",
      "1/1 [==============================] - 0s 34ms/step\n",
      "[[0.08791103]]\n",
      "1/1 [==============================] - 0s 32ms/step\n",
      "[[0.07481114]]\n",
      "1/1 [==============================] - 0s 24ms/step\n",
      "[[0.06676441]]\n",
      "1/1 [==============================] - 0s 40ms/step\n",
      "[[0.07721379]]\n",
      "1/1 [==============================] - 0s 32ms/step\n",
      "[[0.07721379]]\n",
      "1/1 [==============================] - 0s 40ms/step\n",
      "[[0.0813245]]\n"
     ]
    }
   ],
   "source": [
    "cap=cv.VideoCapture(0)\n",
    "while True:\n",
    "    try:\n",
    "        _,frame=cap.read()\n",
    "#         gray=cv.cvtColor(frame,cv.COLOR_BGR2GRAY)\n",
    "#         faces=face_cascade.detectMultiScale(gray,1.1,4)\n",
    "#         x,y,w,h=faces[0]\n",
    "        label,pro=give_result(frame)\n",
    "        cv.putText(frame,f\"{label} {round(pro*100,2)}\",(20,20),cv.FONT_HERSHEY_COMPLEX_SMALL,1,(0,0,255),1,cv.LINE_AA)\n",
    "#         cv.rectangle(frame,(x,y),(x+h,y+h),(0,255,0),1,cv.LINE_AA)\n",
    "    except:\n",
    "        label,pro=give_result(frame)\n",
    "        print(label)\n",
    "        cv.putText(frame,f\"{label} {round(pro*100,2)}\",(20,20),cv.FONT_HERSHEY_COMPLEX_SMALL,1,(0,0,255),1,cv.LINE_AA)\n",
    "    if cv.waitKey(1)==27:\n",
    "        break\n",
    "    \n",
    "    cv.imshow('frame',frame)\n",
    "    \n",
    "    \n",
    "cap.release()\n",
    "cv.destroyAllWindows()"
   ]
  },
  {
   "cell_type": "code",
   "execution_count": 89,
   "id": "12b8f5dc",
   "metadata": {},
   "outputs": [],
   "source": [
    "model.save('last.h5')"
   ]
  },
  {
   "cell_type": "code",
   "execution_count": null,
   "id": "1b765ae2",
   "metadata": {},
   "outputs": [],
   "source": []
  }
 ],
 "metadata": {
  "kernelspec": {
   "display_name": "Python 3 (ipykernel)",
   "language": "python",
   "name": "python3"
  },
  "language_info": {
   "codemirror_mode": {
    "name": "ipython",
    "version": 3
   },
   "file_extension": ".py",
   "mimetype": "text/x-python",
   "name": "python",
   "nbconvert_exporter": "python",
   "pygments_lexer": "ipython3",
   "version": "3.10.8"
  }
 },
 "nbformat": 4,
 "nbformat_minor": 5
}
